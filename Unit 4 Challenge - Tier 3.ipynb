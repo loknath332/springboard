{
 "cells": [
  {
   "cell_type": "markdown",
   "metadata": {
    "colab_type": "text",
    "id": "Tia3MP1SJpgj"
   },
   "source": [
    "# Springboard Data Science Career Track Unit 4 Challenge - Tier 3 Complete\n",
    "\n",
    "## Objectives\n",
    "Hey! Great job getting through those challenging DataCamp courses. You're learning a lot in a short span of time. \n",
    "\n",
    "In this notebook, you're going to apply the skills you've been learning, bridging the gap between the controlled environment of DataCamp and the *slightly* messier work that data scientists do with actual datasets!\n",
    "\n",
    "Here’s the mystery we’re going to solve: ***which boroughs of London have seen the greatest increase in housing prices, on average, over the last two decades?***\n",
    "\n",
    "\n",
    "A borough is just a fancy word for district. You may be familiar with the five boroughs of New York… well, there are 32 boroughs within Greater London [(here's some info for the curious)](https://en.wikipedia.org/wiki/London_boroughs). Some of them are more desirable areas to live in, and the data will reflect that with a greater rise in housing prices.\n",
    "\n",
    "***This is the Tier 3 notebook, which means it's not filled in at all: we'll just give you the skeleton of a project, the brief and the data. It's up to you to play around with it and see what you can find out! Good luck! If you struggle, feel free to look at easier tiers for help; but try to dip in and out of them, as the more independent work you do, the better it is for your learning!***\n",
    "\n",
    "This challenge will make use of only what you learned in the following DataCamp courses: \n",
    "- Prework courses (Introduction to Python for Data Science, Intermediate Python for Data Science)\n",
    "- Data Types for Data Science\n",
    "- Python Data Science Toolbox (Part One) \n",
    "- pandas Foundations\n",
    "- Manipulating DataFrames with pandas\n",
    "- Merging DataFrames with pandas\n",
    "\n",
    "Of the tools, techniques and concepts in the above DataCamp courses, this challenge should require the application of the following: \n",
    "- **pandas**\n",
    "    - **data ingestion and inspection** (pandas Foundations, Module One) \n",
    "    - **exploratory data analysis** (pandas Foundations, Module Two)\n",
    "    - **tidying and cleaning** (Manipulating DataFrames with pandas, Module Three) \n",
    "    - **transforming DataFrames** (Manipulating DataFrames with pandas, Module One)\n",
    "    - **subsetting DataFrames with lists** (Manipulating DataFrames with pandas, Module One) \n",
    "    - **filtering DataFrames** (Manipulating DataFrames with pandas, Module One) \n",
    "    - **grouping data** (Manipulating DataFrames with pandas, Module Four) \n",
    "    - **melting data** (Manipulating DataFrames with pandas, Module Three) \n",
    "    - **advanced indexing** (Manipulating DataFrames with pandas, Module Four) \n",
    "- **matplotlib** (Intermediate Python for Data Science, Module One)\n",
    "- **fundamental data types** (Data Types for Data Science, Module One) \n",
    "- **dictionaries** (Intermediate Python for Data Science, Module Two)\n",
    "- **handling dates and times** (Data Types for Data Science, Module Four)\n",
    "- **function definition** (Python Data Science Toolbox - Part One, Module One)\n",
    "- **default arguments, variable length, and scope** (Python Data Science Toolbox - Part One, Module Two) \n",
    "- **lambda functions and error handling** (Python Data Science Toolbox - Part One, Module Four) "
   ]
  },
  {
   "cell_type": "markdown",
   "metadata": {
    "colab_type": "text",
    "id": "Ipgd2nV8Jpgl"
   },
   "source": [
    "## The Data Science Pipeline\n",
    "\n",
    "This is Tier Three, so we'll get you started. But after that, it's all in your hands! When you feel done with your investigations, look back over what you've accomplished, and prepare a quick presentation of your findings for the next mentor meeting. \n",
    "\n",
    "Data Science is magical. In this case study, you'll get to apply some complex machine learning algorithms. But as  [David Spiegelhalter](https://www.youtube.com/watch?v=oUs1uvsz0Ok) reminds us, there is no substitute for simply **taking a really, really good look at the data.** Sometimes, this is all we need to answer our question.\n",
    "\n",
    "Data Science projects generally adhere to the four stages of Data Science Pipeline:\n",
    "1. Sourcing and loading \n",
    "2. Cleaning, transforming, and visualizing \n",
    "3. Modeling \n",
    "4. Evaluating and concluding \n"
   ]
  },
  {
   "cell_type": "markdown",
   "metadata": {
    "colab_type": "text",
    "id": "zswDqbefJpgm"
   },
   "source": [
    "### 1. Sourcing and Loading \n",
    "\n",
    "Any Data Science project kicks off by importing  ***pandas***. The documentation of this wonderful library can be found [here](https://pandas.pydata.org/). As you've seen, pandas is conveniently connected to the [Numpy](http://www.numpy.org/) and [Matplotlib](https://matplotlib.org/) libraries. \n",
    "\n",
    "***Hint:*** This part of the data science pipeline will test those skills you acquired in the pandas Foundations course, Module One. "
   ]
  },
  {
   "cell_type": "markdown",
   "metadata": {
    "colab_type": "text",
    "id": "aEau5nEvJpgm"
   },
   "source": [
    "#### 1.1. Importing Libraries"
   ]
  },
  {
   "cell_type": "code",
   "execution_count": 37,
   "metadata": {
    "colab": {},
    "colab_type": "code",
    "id": "7Bt_Q_oPJpgn"
   },
   "outputs": [],
   "source": [
    "# Let's import the pandas, numpy libraries as pd, and np respectively. \n",
    "import pandas as pd\n",
    "import numpy as np\n",
    "\n",
    "# Load the pyplot collection of functions from matplotlib, as plt \n",
    "from matplotlib import pyplot as plt"
   ]
  },
  {
   "cell_type": "markdown",
   "metadata": {
    "colab_type": "text",
    "id": "koUrawxsJpgq"
   },
   "source": [
    "#### 1.2.  Loading the data\n",
    "Your data comes from the [London Datastore](https://data.london.gov.uk/): a free, open-source data-sharing portal for London-oriented datasets. "
   ]
  },
  {
   "cell_type": "code",
   "execution_count": 38,
   "metadata": {
    "colab": {},
    "colab_type": "code",
    "id": "AiLiD4v3Jpgr"
   },
   "outputs": [],
   "source": [
    "# First, make a variable called url_LondonHousePrices, and assign it the following link, enclosed in quotation-marks as a string:\n",
    "# https://data.london.gov.uk/download/uk-house-price-index/70ac0766-8902-4eb5-aab5-01951aaed773/UK%20House%20price%20index.xls\n",
    "\n",
    "url_LondonHousePrices = \"https://data.london.gov.uk/download/uk-house-price-index/70ac0766-8902-4eb5-aab5-01951aaed773/UK%20House%20price%20index.xls\"\n",
    "\n",
    "# The dataset we're interested in contains the Average prices of the houses, and is actually on a particular sheet of the Excel file. \n",
    "# As a result, we need to specify the sheet name in the read_excel() method.\n",
    "# Put this data into a variable called properties.  \n",
    "properties = pd.read_excel(url_LondonHousePrices, sheet_name='Average price', index_col= None)"
   ]
  },
  {
   "cell_type": "markdown",
   "metadata": {
    "colab_type": "text",
    "id": "POukEJXgJpgu"
   },
   "source": [
    "### 2. Cleaning, transforming, and visualizing\n",
    "This second stage is arguably the most important part of any Data Science project. The first thing to do is take a proper look at the data. Cleaning forms the majority of this stage, and can be done both before or after Transformation.\n",
    "\n",
    "The end goal of data cleaning is to have tidy data. When data is tidy: \n",
    "\n",
    "1. Each variable has a column.\n",
    "2. Each observation forms a row.\n",
    "\n",
    "Keep the end goal in mind as you move through this process, every step will take you closer. \n",
    "\n",
    "\n",
    "\n",
    "***Hint:*** This part of the data science pipeline should test those skills you acquired in: \n",
    "- Intermediate Python for data science, all modules.\n",
    "- pandas Foundations, all modules. \n",
    "- Manipulating DataFrames with pandas, all modules.\n",
    "- Data Types for Data Science, Module Four.\n",
    "- Python Data Science Toolbox - Part One, all modules"
   ]
  },
  {
   "cell_type": "markdown",
   "metadata": {
    "colab_type": "text",
    "id": "Te0Q548tnzZa"
   },
   "source": [
    "**2.1. Exploring your data** \n",
    "\n",
    "Think about your pandas functions for checking out a dataframe. "
   ]
  },
  {
   "cell_type": "code",
   "execution_count": 39,
   "metadata": {
    "colab": {},
    "colab_type": "code",
    "id": "Rxirxw_qoAJa"
   },
   "outputs": [
    {
     "name": "stdout",
     "output_type": "stream",
     "text": [
      "(330, 49)\n",
      "Index(['Unnamed: 0', 'City of London', 'Barking & Dagenham', 'Barnet',\n",
      "       'Bexley', 'Brent', 'Bromley', 'Camden', 'Croydon', 'Ealing', 'Enfield',\n",
      "       'Greenwich', 'Hackney', 'Hammersmith & Fulham', 'Haringey', 'Harrow',\n",
      "       'Havering', 'Hillingdon', 'Hounslow', 'Islington',\n",
      "       'Kensington & Chelsea', 'Kingston upon Thames', 'Lambeth', 'Lewisham',\n",
      "       'Merton', 'Newham', 'Redbridge', 'Richmond upon Thames', 'Southwark',\n",
      "       'Sutton', 'Tower Hamlets', 'Waltham Forest', 'Wandsworth',\n",
      "       'Westminster', 'Unnamed: 34', 'Inner London', 'Outer London',\n",
      "       'Unnamed: 37', 'NORTH EAST', 'NORTH WEST', 'YORKS & THE HUMBER',\n",
      "       'EAST MIDLANDS', 'WEST MIDLANDS', 'EAST OF ENGLAND', 'LONDON',\n",
      "       'SOUTH EAST', 'SOUTH WEST', 'Unnamed: 47', 'England'],\n",
      "      dtype='object')\n",
      "RangeIndex(start=0, stop=330, step=1)\n",
      "Index(['Unnamed: 0', 'Barking & Dagenham', 'Barnet', 'Bexley', 'Brent',\n",
      "       'Bromley', 'Camden', 'Croydon', 'Ealing', 'Enfield', 'Greenwich',\n",
      "       'Hackney', 'Hammersmith & Fulham', 'Haringey', 'Harrow', 'Havering',\n",
      "       'Hillingdon', 'Hounslow', 'Islington', 'Kensington & Chelsea',\n",
      "       'Kingston upon Thames', 'Lambeth', 'Lewisham', 'Merton', 'Newham',\n",
      "       'Redbridge', 'Richmond upon Thames', 'Southwark', 'Sutton',\n",
      "       'Tower Hamlets', 'Waltham Forest', 'Wandsworth', 'Westminster'],\n",
      "      dtype='object')\n"
     ]
    }
   ],
   "source": [
    "print(properties.shape)\n",
    "print(properties.columns)\n",
    "print(properties.index)\n",
    "# remove 'City of London Column'\n",
    "properties = properties.drop(columns=['City of London'], errors='ignore')\n",
    "# remove all the columns after Westminster\n",
    "properties = properties.drop(properties.columns[33:], axis=1)\n",
    "print(properties.columns)"
   ]
  },
  {
   "cell_type": "markdown",
   "metadata": {
    "colab_type": "text",
    "id": "tE9Sqt9-oAta"
   },
   "source": [
    "**2.2. Cleaning the data**\n",
    "\n",
    "You might find you need to transpose your dataframe, check out what its row indexes are, and reset the index. You  also might find you need to assign the values of the first row to your column headings  . (Hint: recall the .columns feature of DataFrames, as well as the iloc[] method).\n",
    "\n",
    "Don't be afraid to use StackOverflow for help  with this."
   ]
  },
  {
   "cell_type": "code",
   "execution_count": 40,
   "metadata": {
    "colab": {},
    "colab_type": "code",
    "id": "cdAu1A3YoH_r"
   },
   "outputs": [
    {
     "name": "stdout",
     "output_type": "stream",
     "text": [
      "Index([       'Unnamed: 0',                 NaT, 1995-01-01 00:00:00,\n",
      "       1995-02-01 00:00:00, 1995-03-01 00:00:00, 1995-04-01 00:00:00,\n",
      "       1995-05-01 00:00:00, 1995-06-01 00:00:00, 1995-07-01 00:00:00,\n",
      "       1995-08-01 00:00:00,\n",
      "       ...\n",
      "       2021-08-01 00:00:00, 2021-09-01 00:00:00, 2021-10-01 00:00:00,\n",
      "       2021-11-01 00:00:00, 2021-12-01 00:00:00, 2022-01-01 00:00:00,\n",
      "       2022-02-01 00:00:00, 2022-03-01 00:00:00, 2022-04-01 00:00:00,\n",
      "       2022-05-01 00:00:00],\n",
      "      dtype='object', name=0, length=331)\n"
     ]
    }
   ],
   "source": [
    "borough2D = properties.T\n",
    "borough2D = borough2D.reset_index()\n",
    "#print(borough2D.head())\n",
    "borough2D.columns = borough2D.iloc[0]\n",
    "borough2D = borough2D.drop(0)\n",
    "print(borough2D.columns)"
   ]
  },
  {
   "cell_type": "markdown",
   "metadata": {
    "colab_type": "text",
    "id": "o1uLbJAsoIjK"
   },
   "source": [
    "**2.3. Cleaning the data (part 2)**\n",
    "\n",
    "You might we have to **rename** a couple columns. How do you do this? The clue's pretty bold..."
   ]
  },
  {
   "cell_type": "code",
   "execution_count": 41,
   "metadata": {
    "colab": {},
    "colab_type": "code",
    "id": "GKkmn1AnoVZS"
   },
   "outputs": [
    {
     "name": "stdout",
     "output_type": "stream",
     "text": [
      "Index([          'Borough',                'ID', 1995-01-01 00:00:00,\n",
      "       1995-02-01 00:00:00, 1995-03-01 00:00:00, 1995-04-01 00:00:00,\n",
      "       1995-05-01 00:00:00, 1995-06-01 00:00:00, 1995-07-01 00:00:00,\n",
      "       1995-08-01 00:00:00,\n",
      "       ...\n",
      "       2021-08-01 00:00:00, 2021-09-01 00:00:00, 2021-10-01 00:00:00,\n",
      "       2021-11-01 00:00:00, 2021-12-01 00:00:00, 2022-01-01 00:00:00,\n",
      "       2022-02-01 00:00:00, 2022-03-01 00:00:00, 2022-04-01 00:00:00,\n",
      "       2022-05-01 00:00:00],\n",
      "      dtype='object', name=0, length=331)\n"
     ]
    }
   ],
   "source": [
    "#rename columns\n",
    "borough2D = borough2D.rename(columns = {'Unnamed: 0':'Borough', pd.NaT: 'ID'})\n",
    "print(borough2D.columns)"
   ]
  },
  {
   "cell_type": "markdown",
   "metadata": {
    "colab_type": "text",
    "id": "jy8BzXHmoWEw"
   },
   "source": [
    "**2.4.Transforming the data**\n",
    "\n",
    "Remember what Wes McKinney said about tidy data? \n",
    "\n",
    "You might need to **melt** your DataFrame here. "
   ]
  },
  {
   "cell_type": "code",
   "execution_count": 42,
   "metadata": {
    "colab": {},
    "colab_type": "code",
    "id": "S2wM0qLuo2Zt"
   },
   "outputs": [
    {
     "name": "stdout",
     "output_type": "stream",
     "text": [
      "                  Borough         ID       date  house price\n",
      "0      Barking & Dagenham  E09000002 1995-01-01   50460.2266\n",
      "1                  Barnet  E09000003 1995-01-01  93284.51832\n",
      "2                  Bexley  E09000004 1995-01-01  64958.09036\n",
      "3                   Brent  E09000005 1995-01-01  71306.56698\n",
      "4                 Bromley  E09000006 1995-01-01  81671.47692\n",
      "...                   ...        ...        ...          ...\n",
      "10523              Sutton  E09000029 2022-05-01  427274.9882\n",
      "10524       Tower Hamlets  E09000030 2022-05-01  475397.1034\n",
      "10525      Waltham Forest  E09000031 2022-05-01  497886.8945\n",
      "10526          Wandsworth  E09000032 2022-05-01  641589.4496\n",
      "10527         Westminster  E09000033 2022-05-01  881375.2554\n",
      "\n",
      "[10528 rows x 4 columns]\n"
     ]
    }
   ],
   "source": [
    "borough1D = borough2D.melt(id_vars=['Borough', 'ID'],var_name='date', value_name='house price')\n",
    "print(borough1D)"
   ]
  },
  {
   "cell_type": "markdown",
   "metadata": {
    "colab_type": "text",
    "id": "7kIsgAo7o3mf"
   },
   "source": [
    "Remember to make sure your column data types are all correct. Average prices, for example, should be floating point numbers... "
   ]
  },
  {
   "cell_type": "code",
   "execution_count": 43,
   "metadata": {
    "colab": {},
    "colab_type": "code",
    "id": "ZcR4IHbcpOaq"
   },
   "outputs": [
    {
     "name": "stdout",
     "output_type": "stream",
     "text": [
      "Borough                object\n",
      "ID                     object\n",
      "date           datetime64[ns]\n",
      "house price            object\n",
      "dtype: object\n",
      "Borough                object\n",
      "ID                     object\n",
      "date           datetime64[ns]\n",
      "house price           float64\n",
      "dtype: object\n"
     ]
    }
   ],
   "source": [
    "print(borough1D.dtypes)\n",
    "borough1D['house price'] = pd.to_numeric(borough1D['house price'])\n",
    "print(borough1D.dtypes)"
   ]
  },
  {
   "cell_type": "markdown",
   "metadata": {
    "colab_type": "text",
    "id": "knLUXHLypOtw"
   },
   "source": [
    "**2.5. Cleaning the data (part 3)**\n",
    "\n",
    "Do we have an equal number of observations in the ID, Average Price, Month, and London Borough columns? Remember that there are only 32 London Boroughs. How many entries do you have in that column? \n",
    "\n",
    "Check out the contents of the London Borough column, and if you find null values, get rid of them however you see fit. "
   ]
  },
  {
   "cell_type": "code",
   "execution_count": 44,
   "metadata": {
    "colab": {},
    "colab_type": "code",
    "id": "BnvTW5a3p0fC"
   },
   "outputs": [
    {
     "name": "stdout",
     "output_type": "stream",
     "text": [
      "<class 'numpy.ndarray'>\n",
      "['Barking & Dagenham' 'Barnet' 'Bexley' 'Brent' 'Bromley' 'Camden'\n",
      " 'Croydon' 'Ealing' 'Enfield' 'Greenwich' 'Hackney' 'Hammersmith & Fulham'\n",
      " 'Haringey' 'Harrow' 'Havering' 'Hillingdon' 'Hounslow' 'Islington'\n",
      " 'Kensington & Chelsea' 'Kingston upon Thames' 'Lambeth' 'Lewisham'\n",
      " 'Merton' 'Newham' 'Redbridge' 'Richmond upon Thames' 'Southwark' 'Sutton'\n",
      " 'Tower Hamlets' 'Waltham Forest' 'Wandsworth' 'Westminster']\n",
      "<class 'list'>\n",
      "['Barking & Dagenham', 'Barnet', 'Bexley', 'Brent', 'Bromley', 'Camden', 'Croydon', 'Ealing', 'Enfield', 'Greenwich', 'Hackney', 'Hammersmith & Fulham', 'Haringey', 'Harrow', 'Havering', 'Hillingdon', 'Hounslow', 'Islington', 'Kensington & Chelsea', 'Kingston upon Thames', 'Lambeth', 'Lewisham', 'Merton', 'Newham', 'Redbridge', 'Richmond upon Thames', 'Southwark', 'Sutton', 'Tower Hamlets', 'Waltham Forest', 'Wandsworth', 'Westminster']\n"
     ]
    }
   ],
   "source": [
    "# Remove Na\n",
    "borough1D = borough1D.dropna()\n",
    "print(type(pd.unique(borough1D['Borough'])))\n",
    "print(pd.unique(borough1D['Borough']))\n",
    "Boroughs = list(pd.unique(borough1D['Borough']))\n",
    "print(type(Boroughs))\n",
    "print(Boroughs)\n",
    "df = borough1D"
   ]
  },
  {
   "cell_type": "markdown",
   "metadata": {
    "colab_type": "text",
    "id": "PGEx6mJsp6dG"
   },
   "source": [
    "**2.6. Visualizing the data**\n",
    "\n",
    "To visualize the data, why not subset on a particular London Borough? Maybe do a line plot of Month against Average Price?"
   ]
  },
  {
   "cell_type": "code",
   "execution_count": 123,
   "metadata": {
    "colab": {},
    "colab_type": "code",
    "id": "nAg5pT9cqHAR"
   },
   "outputs": [
    {
     "name": "stdout",
     "output_type": "stream",
     "text": [
      "Index(['Borough', 'ID', 'date', 'house price', 'year'], dtype='object')\n",
      "['Barking & Dagenham', 'Barnet', 'Bexley', 'Brent', 'Bromley', 'Camden', 'Croydon', 'Ealing', 'Enfield', 'Greenwich', 'Hackney', 'Hammersmith & Fulham', 'Haringey', 'Harrow', 'Havering', 'Hillingdon', 'Hounslow', 'Islington', 'Kensington & Chelsea', 'Kingston upon Thames', 'Lambeth', 'Lewisham', 'Merton', 'Newham', 'Redbridge', 'Richmond upon Thames', 'Southwark', 'Sutton', 'Tower Hamlets', 'Waltham Forest', 'Wandsworth', 'Westminster']\n"
     ]
    },
    {
     "data": {
      "image/png": "[encoded data removed]",
      "text/plain": [
       "<Figure size 432x288 with 1 Axes>"
      ]
     },
     "metadata": {
      "needs_background": "light"
     },
     "output_type": "display_data"
    }
   ],
   "source": [
    "# First select year to calculate annual mean later\n",
    "df['year'] = df['date'].apply(lambda t: t.year)\n",
    "print(df.columns)\n",
    "# Calculate mean annual house prices for each Borough\n",
    "price_yy = df.groupby(['Borough', 'year'])['house price'].mean()\n",
    "print(Boroughs)\n",
    "myboroughs = ['Barking & Dagenham', 'Camden', 'Hackney', 'Hounslow','Kensington & Chelsea']\n",
    "for boro in myboroughs:\n",
    "    var = price_yy[boro]\n",
    "    var.plot()\n",
    "plt.legend(myboroughs)\n",
    "plt.ylabel('House Prices')\n",
    "plt.savefig('housing_price_timeseries.png')\n",
    "plt.show()"
   ]
  },
  {
   "cell_type": "markdown",
   "metadata": {
    "colab_type": "text",
    "id": "aWTPqSJeqHnC"
   },
   "source": [
    "To limit the number of data points you have, you might want to extract the year from every month value your *Month* column. \n",
    "\n",
    "To this end, you *could* apply a ***lambda function***. Your logic could work as follows:\n",
    "1. look through the `Month` column\n",
    "2. extract the year from each individual value in that column \n",
    "3. store that corresponding year as separate column. \n",
    "\n",
    "Whether you go ahead with this is up to you. Just so long as you answer our initial brief: which boroughs of London have seen the greatest house price increase, on average, over the past two decades? "
   ]
  },
  {
   "cell_type": "code",
   "execution_count": 114,
   "metadata": {
    "colab": {},
    "colab_type": "code",
    "id": "e0DF92cyqnu8"
   },
   "outputs": [
    {
     "name": "stdout",
     "output_type": "stream",
     "text": [
      "<class 'dict'>\n"
     ]
    }
   ],
   "source": [
    "#print(price_BnD)\n",
    "pratio = {}\n",
    "pchange = {}\n",
    "#print(Boroughs)\n",
    "for boro in Boroughs:\n",
    "    price = list(price_yy[boro])\n",
    "    p95 = price[0]\n",
    "    p21 = price[-1]\n",
    "    diff = p21 - p95\n",
    "    ratio = p21/p95\n",
    "    #print(boro,ratio)\n",
    "    pratio[boro] = ratio\n",
    "    pchange[boro] = diff\n",
    "print(type(pratio))\n",
    "# Convert to dataframe\n",
    "df_pratio = pd.DataFrame(pratio.items())\n",
    "df_pchange = pd.DataFrame(pchange.items())"
   ]
  },
  {
   "cell_type": "markdown",
   "metadata": {
    "colab_type": "text",
    "id": "2knuTxAEqoJ4"
   },
   "source": [
    "**3. Modeling**\n",
    "\n",
    "Consider creating a function that will calculate a ratio of house prices, comparing the price of a house in 2018 to the price in 1998.\n",
    "\n",
    "Consider calling this function create_price_ratio.\n",
    "\n",
    "You'd want this function to:\n",
    "1. Take a filter of dfg, specifically where this filter constrains the London_Borough, as an argument. For example, one admissible argument should be: dfg[dfg['London_Borough']=='Camden'].\n",
    "2. Get the Average Price for that Borough, for the years 1998 and 2018.\n",
    "4. Calculate the ratio of the Average Price for 1998 divided by the Average Price for 2018.\n",
    "5. Return that ratio.\n",
    "\n",
    "Once you've written this function, you ultimately want to use it to iterate through all the unique London_Boroughs and work out the ratio capturing the difference of house prices between 1998 and 2018.\n",
    "\n",
    "Bear in mind: you don't have to write a function like this if you don't want to. If you can solve the brief otherwise, then great! \n",
    "\n",
    "***Hint***: This section should test the skills you acquired in:\n",
    "- Python Data Science Toolbox - Part One, all modules"
   ]
  },
  {
   "cell_type": "code",
   "execution_count": 126,
   "metadata": {
    "colab": {},
    "colab_type": "code",
    "id": "cKTyr437UgDa"
   },
   "outputs": [
    {
     "name": "stdout",
     "output_type": "stream",
     "text": [
      "                 Borough  Price Ratio\n",
      "10               Hackney     9.313382\n",
      "26             Southwark     8.283346\n",
      "29        Waltham Forest     7.923271\n",
      "20               Lambeth     7.912302\n",
      "21              Lewisham     7.602862\n",
      "17             Islington     7.480953\n",
      "28         Tower Hamlets     7.371797\n",
      "23                Newham     7.360499\n",
      "31           Westminster     7.339681\n",
      "12              Haringey     7.328296\n",
      "3                  Brent     7.273880\n",
      "30            Wandsworth     7.224638\n",
      "5                 Camden     7.186819\n",
      "18  Kensington & Chelsea     7.167972\n",
      "22                Merton     6.970264\n"
     ]
    },
    {
     "data": {
      "image/png": "[encoded data removed]",
      "text/plain": [
       "<Figure size 432x288 with 1 Axes>"
      ]
     },
     "metadata": {
      "needs_background": "light"
     },
     "output_type": "display_data"
    },
    {
     "data": {
      "image/png": "[encoded data removed]",
      "text/plain": [
       "<Figure size 432x288 with 1 Axes>"
      ]
     },
     "metadata": {
      "needs_background": "light"
     },
     "output_type": "display_data"
    }
   ],
   "source": [
    "cnames = ['Borough', 'Price Ratio']\n",
    "df_pratio.columns = cnames\n",
    "final = df_pratio.sort_values('Price Ratio', ascending=False)[:15]\n",
    "print(final)\n",
    "final.plot(x='Borough', y='Price Ratio', kind='bar')\n",
    "plt.ylabel('price ratio (price 2022/price 1995)')\n",
    "plt.savefig('house_price_ratio_increase.png')\n",
    "plt.show()\n",
    "#\n",
    "cnames = ['Borough', 'Price Change']\n",
    "df_pchange.columns = cnames\n",
    "testv = df_pchange.sort_values('Price Change', ascending=False)[:15]\n",
    "testv.plot(x='Borough', y='Price Change', kind='bar')\n",
    "plt.ylabel('price change (price 2022 - price 1995)')\n",
    "plt.savefig('house_price_value_increase.png')\n",
    "plt.show()"
   ]
  },
  {
   "cell_type": "markdown",
   "metadata": {
    "colab_type": "text",
    "id": "NzYUI7FxJpgv"
   },
   "source": [
    "### 4. Conclusion\n",
    "What can you conclude? Type out your conclusion below. \n",
    "\n",
    "Look back at your notebook. Think about how you might summarize what you have done, and prepare a quick presentation on it to your mentor at your next meeting. \n",
    "\n",
    "We hope you enjoyed this practical project. It should have consolidated your data hygiene and pandas skills by looking at a real-world problem involving just the kind of dataset you might encounter as a budding data scientist. Congratulations, and looking forward to seeing you at the next step in the course! "
   ]
  },
  {
   "cell_type": "code",
   "execution_count": 127,
   "metadata": {},
   "outputs": [],
   "source": [
    "#"
   ]
  },
  {
   "cell_type": "code",
   "execution_count": null,
   "metadata": {},
   "outputs": [],
   "source": []
  },
  {
   "cell_type": "code",
   "execution_count": null,
   "metadata": {},
   "outputs": [],
   "source": []
  }
 ],
 "metadata": {
  "colab": {
   "collapsed_sections": [],
   "name": "Springboard Data Science Career Track Unit 4 Challenge - Tier 3 Complete .ipynb",
   "provenance": []
  },
  "kernelspec": {
   "display_name": "Python 3 (ipykernel)",
   "language": "python",
   "name": "python3"
  },
  "language_info": {
   "codemirror_mode": {
    "name": "ipython",
    "version": 3
   },
   "file_extension": ".py",
   "mimetype": "text/x-python",
   "name": "python",
   "nbconvert_exporter": "python",
   "pygments_lexer": "ipython3",
   "version": "3.9.12"
  }
 },
 "nbformat": 4,
 "nbformat_minor": 1
}
